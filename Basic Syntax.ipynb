{
 "cells": [
  {
   "cell_type": "markdown",
   "id": "7294a1a8-8f16-41c7-9987-aaa152c3a24b",
   "metadata": {},
   "source": [
    "NUMPY"
   ]
  },
  {
   "cell_type": "raw",
   "id": "a8a75cec-f17e-49cf-a68a-cb07a7fc2449",
   "metadata": {},
   "source": [
    "ARRAY CREATION"
   ]
  },
  {
   "cell_type": "code",
   "execution_count": 1,
   "id": "ba93a3d0-532e-4349-afff-5deaa41839d0",
   "metadata": {},
   "outputs": [],
   "source": [
    "import numpy as np"
   ]
  },
  {
   "cell_type": "code",
   "execution_count": 4,
   "id": "9d1ae787-a476-458b-9385-6bce82455768",
   "metadata": {},
   "outputs": [
    {
     "name": "stdout",
     "output_type": "stream",
     "text": [
      "[1 2 3 4 5]\n"
     ]
    }
   ],
   "source": [
    "#creating 1D array\n",
    "arr = np.array([1,2,3,4,5])\n",
    "print(arr)"
   ]
  },
  {
   "cell_type": "code",
   "execution_count": 7,
   "id": "d65475e4-d313-4a5c-8bee-fb107c12245a",
   "metadata": {},
   "outputs": [
    {
     "name": "stdout",
     "output_type": "stream",
     "text": [
      "[[ 1  2  3  4  5]\n",
      " [ 6  7  8  9 10]]\n"
     ]
    }
   ],
   "source": [
    "# creating 2D array\n",
    "arr = np.array([[1,2,3,4,5],[6,7,8,9,10]])\n",
    "print(arr)"
   ]
  },
  {
   "cell_type": "code",
   "execution_count": 8,
   "id": "b273533d-46fa-49a8-82ac-c1e270700ce0",
   "metadata": {},
   "outputs": [
    {
     "name": "stdout",
     "output_type": "stream",
     "text": [
      "[[0. 0. 0. 0.]\n",
      " [0. 0. 0. 0.]\n",
      " [0. 0. 0. 0.]]\n"
     ]
    }
   ],
   "source": [
    "#using built in functions - for zero\n",
    "zeros = np.zeros((3,4))\n",
    "print(zeros)"
   ]
  },
  {
   "cell_type": "code",
   "execution_count": 10,
   "id": "acf46477-a0bf-4147-ba97-97aeca668f42",
   "metadata": {},
   "outputs": [
    {
     "name": "stdout",
     "output_type": "stream",
     "text": [
      "[[1. 1. 1. 1.]\n",
      " [1. 1. 1. 1.]]\n"
     ]
    }
   ],
   "source": [
    "#using built in functions - for one\n",
    "ones = np.ones((2,4))\n",
    "print(ones)"
   ]
  },
  {
   "cell_type": "code",
   "execution_count": 11,
   "id": "afce5a62-2ada-486b-b144-2961b877fe16",
   "metadata": {},
   "outputs": [
    {
     "name": "stdout",
     "output_type": "stream",
     "text": [
      "[[5 5 5]\n",
      " [5 5 5]]\n"
     ]
    }
   ],
   "source": [
    "#filling with specific values\n",
    "values = np.full((2,3),5)\n",
    "print(values)"
   ]
  },
  {
   "cell_type": "code",
   "execution_count": 13,
   "id": "8cafcfdd-627c-4501-ba02-d9957060ba12",
   "metadata": {},
   "outputs": [
    {
     "name": "stdout",
     "output_type": "stream",
     "text": [
      "[[1. 0. 0.]\n",
      " [0. 1. 0.]\n",
      " [0. 0. 1.]]\n"
     ]
    }
   ],
   "source": [
    "#identity matrix \n",
    "identity_matrix = np.eye(3)\n",
    "print(identity_matrix)"
   ]
  },
  {
   "cell_type": "code",
   "execution_count": 21,
   "id": "e5898482-93a5-482e-8e28-83f7808f2ff6",
   "metadata": {},
   "outputs": [
    {
     "name": "stdout",
     "output_type": "stream",
     "text": [
      "[0 3 6 9]\n"
     ]
    }
   ],
   "source": [
    "#creates array from start to stop given a step\n",
    "arange = np.arange(0,10,3)\n",
    "print(arange)"
   ]
  },
  {
   "cell_type": "code",
   "execution_count": 22,
   "id": "9ae0443b-17f3-4e96-b14e-71270e14921d",
   "metadata": {},
   "outputs": [
    {
     "name": "stdout",
     "output_type": "stream",
     "text": [
      "[0.   0.25 0.5  0.75 1.  ]\n"
     ]
    }
   ],
   "source": [
    "#creates array with evenly spaced\n",
    "linspace = np.linspace(0,1,5)\n",
    "print(linspace)"
   ]
  },
  {
   "cell_type": "code",
   "execution_count": 32,
   "id": "426410ef-a2cd-4cea-9692-348e046db42f",
   "metadata": {},
   "outputs": [
    {
     "name": "stdout",
     "output_type": "stream",
     "text": [
      "[[0.22730772 0.73206814 0.64148511 0.41311556]\n",
      " [0.36548176 0.33137192 0.63596077 0.32244327]\n",
      " [0.75727094 0.30114045 0.39252218 0.79316371]]\n"
     ]
    }
   ],
   "source": [
    "#creates random number from 0 to 1 in decimal values\n",
    "random_array = np.random.rand(3,4)\n",
    "print(random_array)"
   ]
  },
  {
   "cell_type": "code",
   "execution_count": 33,
   "id": "eff621ff-8398-4d12-b0aa-2588d0bae63b",
   "metadata": {},
   "outputs": [
    {
     "name": "stdout",
     "output_type": "stream",
     "text": [
      "[[17 13  7]\n",
      " [ 8 14  9]\n",
      " [11  5 14]]\n"
     ]
    }
   ],
   "source": [
    "#creates random integer values with specifies start and end value\n",
    "random_array = np.random.randint(0,20,(3,3))\n",
    "print(random_array)"
   ]
  },
  {
   "cell_type": "raw",
   "id": "72f9db6e-e6c3-46ab-a17b-b986469dfb3a",
   "metadata": {},
   "source": [
    "ARRAY ATTRIBUTES"
   ]
  },
  {
   "cell_type": "code",
   "execution_count": 35,
   "id": "763bb478-b0eb-48de-8edd-b8b70b03144a",
   "metadata": {},
   "outputs": [
    {
     "name": "stdout",
     "output_type": "stream",
     "text": [
      "(2, 3)\n"
     ]
    }
   ],
   "source": [
    "#array shape\n",
    "arr = np.array([[1,2,3],[4,5,6]])\n",
    "print(arr.shape)"
   ]
  },
  {
   "cell_type": "code",
   "execution_count": 43,
   "id": "105b95d0-7c31-4559-b3b2-9e13956631d8",
   "metadata": {},
   "outputs": [
    {
     "name": "stdout",
     "output_type": "stream",
     "text": [
      "2\n",
      "3\n"
     ]
    }
   ],
   "source": [
    "#array dimension - speciffies 1D or 2D array\n",
    "arr1 = np.array([[1,2,3],[4,5,6]])\n",
    "print(arr1.ndim)\n",
    "\n",
    "arr2 = np.array([[[1,2,3],[4,5,6]],[[7,8,9],[10,11,12]]])\n",
    "print(arr2.ndim)"
   ]
  },
  {
   "cell_type": "code",
   "execution_count": 48,
   "id": "c27ef372-5dcc-42d0-ab96-8b700eb3e426",
   "metadata": {},
   "outputs": [
    {
     "name": "stdout",
     "output_type": "stream",
     "text": [
      "6\n",
      "12\n"
     ]
    }
   ],
   "source": [
    "#array size - gives the total number of elements\n",
    "arr1 = np.array([[1,2,3],[4,5,6]])\n",
    "print(arr1.size)\n",
    "\n",
    "arr2 = np.array([[[1,2,3],[4,5,6]],[[7,8,9],[10,11,12]]])\n",
    "print(arr2.size)"
   ]
  },
  {
   "cell_type": "code",
   "execution_count": 49,
   "id": "853b0481-4f62-4ac6-af8d-99c8a8e0d818",
   "metadata": {},
   "outputs": [
    {
     "name": "stdout",
     "output_type": "stream",
     "text": [
      "int64\n"
     ]
    }
   ],
   "source": [
    "#specify datatype\n",
    "arr = np.array([[1,2,3],[4,5,6]])\n",
    "print(arr.dtype)"
   ]
  },
  {
   "cell_type": "code",
   "execution_count": 50,
   "id": "0d6e91a8-7b72-4f72-a067-bf2bb951e89a",
   "metadata": {},
   "outputs": [
    {
     "name": "stdout",
     "output_type": "stream",
     "text": [
      "[[1 4]\n",
      " [2 5]\n",
      " [3 6]]\n"
     ]
    }
   ],
   "source": [
    "#transpose matrix\n",
    "arr = np.array([[1,2,3],[4,5,6]])\n",
    "print(arr.T)"
   ]
  },
  {
   "cell_type": "code",
   "execution_count": 51,
   "id": "3eea52e0-d134-44bc-801f-34ed019b0200",
   "metadata": {},
   "outputs": [
    {
     "name": "stdout",
     "output_type": "stream",
     "text": [
      "[1. 3.]\n"
     ]
    }
   ],
   "source": [
    "#seperating real values from complex numbers\n",
    "arr = np.array([1+2j,3+4j])\n",
    "print(arr.real)"
   ]
  },
  {
   "cell_type": "code",
   "execution_count": 52,
   "id": "62fe0b22-a657-40d8-af21-561ea72dbc5b",
   "metadata": {},
   "outputs": [
    {
     "name": "stdout",
     "output_type": "stream",
     "text": [
      "[2. 4.]\n"
     ]
    }
   ],
   "source": [
    "#seperating imaginary values from complex numbers\n",
    "arr = np.array([1+2j,3+4j])\n",
    "print(arr.imag)"
   ]
  },
  {
   "cell_type": "raw",
   "id": "7c49b262-49fb-442e-be96-a14df59dcda7",
   "metadata": {},
   "source": [
    "ARRAY INDEXING"
   ]
  },
  {
   "cell_type": "code",
   "execution_count": 55,
   "id": "c6f0d83a-d748-4707-b724-2c7095ec9bb1",
   "metadata": {},
   "outputs": [
    {
     "name": "stdout",
     "output_type": "stream",
     "text": [
      "2\n",
      "6\n"
     ]
    }
   ],
   "source": [
    "#indexing in 2D array\n",
    "\n",
    "arr = np.array([[1,2,3],[4,5,6]])\n",
    "print(arr[0,1])\n",
    "\n",
    "arr = np.array([[1,2,3],[4,5,6]])\n",
    "print(arr[1,2])"
   ]
  },
  {
   "cell_type": "code",
   "execution_count": 57,
   "id": "0b1d5f2e-af16-40af-b308-20d8900a1b71",
   "metadata": {},
   "outputs": [
    {
     "name": "stdout",
     "output_type": "stream",
     "text": [
      "10\n"
     ]
    }
   ],
   "source": [
    "#indexing in multi-dimensional array\n",
    "\n",
    "arr = np.array([[[1,2,3,4],[5,6,7,8]],[[9,10,11,12],[13,14,15,16]]])\n",
    "print(arr[1,0,1])\n",
    "\n",
    "#here depth 1 is [[9,10,11,12],[13,14,15,16]]"
   ]
  },
  {
   "cell_type": "raw",
   "id": "0b3c364f-6756-4497-a4c3-a95c42ed9932",
   "metadata": {},
   "source": [
    "ARRAY SLICING"
   ]
  },
  {
   "cell_type": "code",
   "execution_count": 58,
   "id": "984c17ca-4cb1-466a-b7fe-fbc4e6e661aa",
   "metadata": {},
   "outputs": [
    {
     "name": "stdout",
     "output_type": "stream",
     "text": [
      "[2 3 4 5]\n"
     ]
    }
   ],
   "source": [
    "#1D array slicing\n",
    "arr = np.array([1,2,3,4,5,6,7,8,9,10])\n",
    "print(arr[1:5])"
   ]
  },
  {
   "cell_type": "code",
   "execution_count": 64,
   "id": "f2190ae0-468a-43b7-a19e-8cc07ae90595",
   "metadata": {},
   "outputs": [
    {
     "name": "stdout",
     "output_type": "stream",
     "text": [
      "[[1 2]]\n"
     ]
    }
   ],
   "source": [
    "#2D array slicing\n",
    "arr = np.array([[1,2,3,4,5,6],[7,8,9,10,11,12]])\n",
    "print(arr[0:1, 0:2]) # [first_row:end_row, first_column, end_column]"
   ]
  },
  {
   "cell_type": "code",
   "execution_count": 70,
   "id": "86b1b94b-a2c9-474a-8fec-8727e6772160",
   "metadata": {},
   "outputs": [
    {
     "name": "stdout",
     "output_type": "stream",
     "text": [
      "[[ 1  4]\n",
      " [ 7 10]]\n"
     ]
    }
   ],
   "source": [
    "#slice with step\n",
    "arr = np.array([[1,2,3,4,5,6],[7,8,9,10,11,12]])\n",
    "print(arr[0:2:1, 0:6:3])"
   ]
  },
  {
   "cell_type": "code",
   "execution_count": null,
   "id": "283682c8-9847-4323-ae3a-a5081814f4b3",
   "metadata": {},
   "outputs": [],
   "source": []
  }
 ],
 "metadata": {
  "kernelspec": {
   "display_name": "Python 3 (ipykernel)",
   "language": "python",
   "name": "python3"
  },
  "language_info": {
   "codemirror_mode": {
    "name": "ipython",
    "version": 3
   },
   "file_extension": ".py",
   "mimetype": "text/x-python",
   "name": "python",
   "nbconvert_exporter": "python",
   "pygments_lexer": "ipython3",
   "version": "3.12.4"
  }
 },
 "nbformat": 4,
 "nbformat_minor": 5
}
